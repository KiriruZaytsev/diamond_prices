{
 "cells": [
  {
   "cell_type": "markdown",
   "id": "1e87ea6d",
   "metadata": {},
   "source": [
    "# Лабораторная работа 3\n",
    "Выполнил студент группы М8О-401Б-20 Зайцев Кирилл"
   ]
  },
  {
   "cell_type": "markdown",
   "id": "dcbf6e79",
   "metadata": {},
   "source": [
    "## Оценка стоимости бриллиантов\n",
    "Я взял датасет, в котором хранится информация о бриллиантах различной стоимости. В качестве целевой переменной выступает их стоимость. Необходимо построить модель, которая будет её прогнозировать"
   ]
  },
  {
   "cell_type": "markdown",
   "id": "fb746765",
   "metadata": {},
   "source": [
    "Подключим необходимые библиотеки"
   ]
  },
  {
   "cell_type": "code",
   "execution_count": 1,
   "id": "cf950120",
   "metadata": {},
   "outputs": [],
   "source": [
    "import pandas as pd\n",
    "import numpy as np\n",
    "from sklearn.model_selection import train_test_split\n",
    "from sklearn.linear_model import LinearRegression\n",
    "from sklearn.preprocessing import OneHotEncoder, LabelEncoder\n",
    "from sklearn.compose import ColumnTransformer\n",
    "from sklearn.preprocessing import StandardScaler\n",
    "from sklearn.pipeline import Pipeline\n",
    "from sklearn.metrics import mean_absolute_error, mean_squared_error\n",
    "\n",
    "import matplotlib.pyplot as plt\n",
    "import seaborn as sns"
   ]
  },
  {
   "cell_type": "code",
   "execution_count": 2,
   "id": "44a58d2f",
   "metadata": {},
   "outputs": [],
   "source": [
    "df = pd.read_csv(\"diamonds.csv\")"
   ]
  },
  {
   "cell_type": "markdown",
   "id": "68b94bd9",
   "metadata": {},
   "source": [
    "Посмотрим на наш датасет:"
   ]
  },
  {
   "cell_type": "code",
   "execution_count": 3,
   "id": "0d4b4255",
   "metadata": {},
   "outputs": [
    {
     "name": "stdout",
     "output_type": "stream",
     "text": [
      "<class 'pandas.core.frame.DataFrame'>\n",
      "RangeIndex: 53940 entries, 0 to 53939\n",
      "Data columns (total 10 columns):\n",
      " #   Column   Non-Null Count  Dtype  \n",
      "---  ------   --------------  -----  \n",
      " 0   carat    53940 non-null  float64\n",
      " 1   cut      53940 non-null  object \n",
      " 2   color    53940 non-null  object \n",
      " 3   clarity  53940 non-null  object \n",
      " 4   depth    53940 non-null  float64\n",
      " 5   table    53940 non-null  float64\n",
      " 6   price    53940 non-null  int64  \n",
      " 7   x        53940 non-null  float64\n",
      " 8   y        53940 non-null  float64\n",
      " 9   z        53940 non-null  float64\n",
      "dtypes: float64(6), int64(1), object(3)\n",
      "memory usage: 4.1+ MB\n"
     ]
    }
   ],
   "source": [
    "df.info()"
   ]
  },
  {
   "cell_type": "code",
   "execution_count": 4,
   "id": "68059e41",
   "metadata": {},
   "outputs": [
    {
     "data": {
      "text/html": [
       "<div>\n",
       "<style scoped>\n",
       "    .dataframe tbody tr th:only-of-type {\n",
       "        vertical-align: middle;\n",
       "    }\n",
       "\n",
       "    .dataframe tbody tr th {\n",
       "        vertical-align: top;\n",
       "    }\n",
       "\n",
       "    .dataframe thead th {\n",
       "        text-align: right;\n",
       "    }\n",
       "</style>\n",
       "<table border=\"1\" class=\"dataframe\">\n",
       "  <thead>\n",
       "    <tr style=\"text-align: right;\">\n",
       "      <th></th>\n",
       "      <th>carat</th>\n",
       "      <th>cut</th>\n",
       "      <th>color</th>\n",
       "      <th>clarity</th>\n",
       "      <th>depth</th>\n",
       "      <th>table</th>\n",
       "      <th>price</th>\n",
       "      <th>x</th>\n",
       "      <th>y</th>\n",
       "      <th>z</th>\n",
       "    </tr>\n",
       "  </thead>\n",
       "  <tbody>\n",
       "    <tr>\n",
       "      <th>0</th>\n",
       "      <td>0.23</td>\n",
       "      <td>Ideal</td>\n",
       "      <td>E</td>\n",
       "      <td>SI2</td>\n",
       "      <td>61.5</td>\n",
       "      <td>55.0</td>\n",
       "      <td>326</td>\n",
       "      <td>3.95</td>\n",
       "      <td>3.98</td>\n",
       "      <td>2.43</td>\n",
       "    </tr>\n",
       "    <tr>\n",
       "      <th>1</th>\n",
       "      <td>0.21</td>\n",
       "      <td>Premium</td>\n",
       "      <td>E</td>\n",
       "      <td>SI1</td>\n",
       "      <td>59.8</td>\n",
       "      <td>61.0</td>\n",
       "      <td>326</td>\n",
       "      <td>3.89</td>\n",
       "      <td>3.84</td>\n",
       "      <td>2.31</td>\n",
       "    </tr>\n",
       "    <tr>\n",
       "      <th>2</th>\n",
       "      <td>0.23</td>\n",
       "      <td>Good</td>\n",
       "      <td>E</td>\n",
       "      <td>VS1</td>\n",
       "      <td>56.9</td>\n",
       "      <td>65.0</td>\n",
       "      <td>327</td>\n",
       "      <td>4.05</td>\n",
       "      <td>4.07</td>\n",
       "      <td>2.31</td>\n",
       "    </tr>\n",
       "    <tr>\n",
       "      <th>3</th>\n",
       "      <td>0.29</td>\n",
       "      <td>Premium</td>\n",
       "      <td>I</td>\n",
       "      <td>VS2</td>\n",
       "      <td>62.4</td>\n",
       "      <td>58.0</td>\n",
       "      <td>334</td>\n",
       "      <td>4.20</td>\n",
       "      <td>4.23</td>\n",
       "      <td>2.63</td>\n",
       "    </tr>\n",
       "    <tr>\n",
       "      <th>4</th>\n",
       "      <td>0.31</td>\n",
       "      <td>Good</td>\n",
       "      <td>J</td>\n",
       "      <td>SI2</td>\n",
       "      <td>63.3</td>\n",
       "      <td>58.0</td>\n",
       "      <td>335</td>\n",
       "      <td>4.34</td>\n",
       "      <td>4.35</td>\n",
       "      <td>2.75</td>\n",
       "    </tr>\n",
       "  </tbody>\n",
       "</table>\n",
       "</div>"
      ],
      "text/plain": [
       "   carat      cut color clarity  depth  table  price     x     y     z\n",
       "0   0.23    Ideal     E     SI2   61.5   55.0    326  3.95  3.98  2.43\n",
       "1   0.21  Premium     E     SI1   59.8   61.0    326  3.89  3.84  2.31\n",
       "2   0.23     Good     E     VS1   56.9   65.0    327  4.05  4.07  2.31\n",
       "3   0.29  Premium     I     VS2   62.4   58.0    334  4.20  4.23  2.63\n",
       "4   0.31     Good     J     SI2   63.3   58.0    335  4.34  4.35  2.75"
      ]
     },
     "execution_count": 4,
     "metadata": {},
     "output_type": "execute_result"
    }
   ],
   "source": [
    "df = pd.read_csv(\"diamonds.csv\")\n",
    "df.head()"
   ]
  },
  {
   "cell_type": "code",
   "execution_count": 5,
   "id": "295b6424",
   "metadata": {},
   "outputs": [
    {
     "data": {
      "text/html": [
       "<div>\n",
       "<style scoped>\n",
       "    .dataframe tbody tr th:only-of-type {\n",
       "        vertical-align: middle;\n",
       "    }\n",
       "\n",
       "    .dataframe tbody tr th {\n",
       "        vertical-align: top;\n",
       "    }\n",
       "\n",
       "    .dataframe thead th {\n",
       "        text-align: right;\n",
       "    }\n",
       "</style>\n",
       "<table border=\"1\" class=\"dataframe\">\n",
       "  <thead>\n",
       "    <tr style=\"text-align: right;\">\n",
       "      <th></th>\n",
       "      <th>carat</th>\n",
       "      <th>depth</th>\n",
       "      <th>table</th>\n",
       "      <th>price</th>\n",
       "      <th>x</th>\n",
       "      <th>y</th>\n",
       "      <th>z</th>\n",
       "    </tr>\n",
       "  </thead>\n",
       "  <tbody>\n",
       "    <tr>\n",
       "      <th>count</th>\n",
       "      <td>53940.000000</td>\n",
       "      <td>53940.000000</td>\n",
       "      <td>53940.000000</td>\n",
       "      <td>53940.000000</td>\n",
       "      <td>53940.000000</td>\n",
       "      <td>53940.000000</td>\n",
       "      <td>53940.000000</td>\n",
       "    </tr>\n",
       "    <tr>\n",
       "      <th>mean</th>\n",
       "      <td>0.797940</td>\n",
       "      <td>61.749405</td>\n",
       "      <td>57.457184</td>\n",
       "      <td>3932.799722</td>\n",
       "      <td>5.731157</td>\n",
       "      <td>5.734526</td>\n",
       "      <td>3.538734</td>\n",
       "    </tr>\n",
       "    <tr>\n",
       "      <th>std</th>\n",
       "      <td>0.474011</td>\n",
       "      <td>1.432621</td>\n",
       "      <td>2.234491</td>\n",
       "      <td>3989.439738</td>\n",
       "      <td>1.121761</td>\n",
       "      <td>1.142135</td>\n",
       "      <td>0.705699</td>\n",
       "    </tr>\n",
       "    <tr>\n",
       "      <th>min</th>\n",
       "      <td>0.200000</td>\n",
       "      <td>43.000000</td>\n",
       "      <td>43.000000</td>\n",
       "      <td>326.000000</td>\n",
       "      <td>0.000000</td>\n",
       "      <td>0.000000</td>\n",
       "      <td>0.000000</td>\n",
       "    </tr>\n",
       "    <tr>\n",
       "      <th>25%</th>\n",
       "      <td>0.400000</td>\n",
       "      <td>61.000000</td>\n",
       "      <td>56.000000</td>\n",
       "      <td>950.000000</td>\n",
       "      <td>4.710000</td>\n",
       "      <td>4.720000</td>\n",
       "      <td>2.910000</td>\n",
       "    </tr>\n",
       "    <tr>\n",
       "      <th>50%</th>\n",
       "      <td>0.700000</td>\n",
       "      <td>61.800000</td>\n",
       "      <td>57.000000</td>\n",
       "      <td>2401.000000</td>\n",
       "      <td>5.700000</td>\n",
       "      <td>5.710000</td>\n",
       "      <td>3.530000</td>\n",
       "    </tr>\n",
       "    <tr>\n",
       "      <th>75%</th>\n",
       "      <td>1.040000</td>\n",
       "      <td>62.500000</td>\n",
       "      <td>59.000000</td>\n",
       "      <td>5324.250000</td>\n",
       "      <td>6.540000</td>\n",
       "      <td>6.540000</td>\n",
       "      <td>4.040000</td>\n",
       "    </tr>\n",
       "    <tr>\n",
       "      <th>max</th>\n",
       "      <td>5.010000</td>\n",
       "      <td>79.000000</td>\n",
       "      <td>95.000000</td>\n",
       "      <td>18823.000000</td>\n",
       "      <td>10.740000</td>\n",
       "      <td>58.900000</td>\n",
       "      <td>31.800000</td>\n",
       "    </tr>\n",
       "  </tbody>\n",
       "</table>\n",
       "</div>"
      ],
      "text/plain": [
       "              carat         depth         table         price             x  \\\n",
       "count  53940.000000  53940.000000  53940.000000  53940.000000  53940.000000   \n",
       "mean       0.797940     61.749405     57.457184   3932.799722      5.731157   \n",
       "std        0.474011      1.432621      2.234491   3989.439738      1.121761   \n",
       "min        0.200000     43.000000     43.000000    326.000000      0.000000   \n",
       "25%        0.400000     61.000000     56.000000    950.000000      4.710000   \n",
       "50%        0.700000     61.800000     57.000000   2401.000000      5.700000   \n",
       "75%        1.040000     62.500000     59.000000   5324.250000      6.540000   \n",
       "max        5.010000     79.000000     95.000000  18823.000000     10.740000   \n",
       "\n",
       "                  y             z  \n",
       "count  53940.000000  53940.000000  \n",
       "mean       5.734526      3.538734  \n",
       "std        1.142135      0.705699  \n",
       "min        0.000000      0.000000  \n",
       "25%        4.720000      2.910000  \n",
       "50%        5.710000      3.530000  \n",
       "75%        6.540000      4.040000  \n",
       "max       58.900000     31.800000  "
      ]
     },
     "execution_count": 5,
     "metadata": {},
     "output_type": "execute_result"
    }
   ],
   "source": [
    "df.describe()"
   ]
  },
  {
   "cell_type": "code",
   "execution_count": 6,
   "id": "41edd4e8",
   "metadata": {},
   "outputs": [
    {
     "data": {
      "text/plain": [
       "carat      0\n",
       "cut        0\n",
       "color      0\n",
       "clarity    0\n",
       "depth      0\n",
       "table      0\n",
       "price      0\n",
       "x          0\n",
       "y          0\n",
       "z          0\n",
       "dtype: int64"
      ]
     },
     "execution_count": 6,
     "metadata": {},
     "output_type": "execute_result"
    }
   ],
   "source": [
    "df.isnull().sum()"
   ]
  },
  {
   "cell_type": "markdown",
   "id": "6c7a7f23",
   "metadata": {},
   "source": [
    "Пропусков нет, это очень хорошо"
   ]
  },
  {
   "cell_type": "code",
   "execution_count": 7,
   "id": "231b3c3f",
   "metadata": {},
   "outputs": [
    {
     "data": {
      "text/plain": [
       "([<matplotlib.patches.Wedge at 0x1df9fa6f010>,\n",
       "  <matplotlib.patches.Wedge at 0x1df9fa7d310>,\n",
       "  <matplotlib.patches.Wedge at 0x1df9fa7f110>,\n",
       "  <matplotlib.patches.Wedge at 0x1df9fa8cfd0>,\n",
       "  <matplotlib.patches.Wedge at 0x1df9fa8ecd0>,\n",
       "  <matplotlib.patches.Wedge at 0x1df9fa9ca90>,\n",
       "  <matplotlib.patches.Wedge at 0x1df9fa9e990>],\n",
       " [Text(0.8705587096075125, 0.6724042929120121, 'G'),\n",
       "  Text(-0.3409543646615483, 1.0458250911209963, 'E'),\n",
       "  Text(-1.0908179126209676, 0.1418318776059718, 'F'),\n",
       "  Text(-0.6750378125021355, -0.8685182506385988, 'H'),\n",
       "  Text(0.2374058947478484, -1.074075621704065, 'D'),\n",
       "  Text(0.8804103450797554, -0.6594525185914043, 'I'),\n",
       "  Text(1.0853220148169267, -0.17909808528771903, 'J')],\n",
       " [Text(0.4748502052404613, 0.36676597795200655, '20.9%'),\n",
       "  Text(-0.18597510799720818, 0.5704500497023616, '18.2%'),\n",
       "  Text(-0.5949915887023459, 0.07736284233053006, '17.7%'),\n",
       "  Text(-0.36820244318298295, -0.4737372276210538, '15.4%'),\n",
       "  Text(0.1294941244079173, -0.585859430020399, '12.6%'),\n",
       "  Text(0.4802238245889574, -0.3597013737771296, '10.1%'),\n",
       "  Text(0.5919938262637781, -0.0976898647023922, '5.2%')])"
      ]
     },
     "execution_count": 7,
     "metadata": {},
     "output_type": "execute_result"
    },
    {
     "data": {
      "image/png": "[encoded data removed]",
      "text/plain": [
       "<Figure size 640x480 with 1 Axes>"
      ]
     },
     "metadata": {},
     "output_type": "display_data"
    }
   ],
   "source": [
    "plt.pie(df.color.value_counts(), \n",
    "        labels = [\"G\", \"E\", \"F\", \"H\", \"D\", \"I\", \"J\"], \n",
    "        autopct = '%1.1f%%')"
   ]
  },
  {
   "cell_type": "markdown",
   "id": "aa273975",
   "metadata": {},
   "source": [
    "Есть незначительный дисбаланс, класса J довольно мало по сравнению с классом G"
   ]
  },
  {
   "cell_type": "markdown",
   "id": "5cb5a11e",
   "metadata": {},
   "source": [
    "Теперь посмотрим на другие категориальные признаки"
   ]
  },
  {
   "cell_type": "code",
   "execution_count": 8,
   "id": "40a967f5",
   "metadata": {},
   "outputs": [
    {
     "data": {
      "text/plain": [
       "Text(0.5, 1.0, 'Count of cut')"
      ]
     },
     "execution_count": 8,
     "metadata": {},
     "output_type": "execute_result"
    },
    {
     "data": {
      "image/png": "[encoded data removed]",
      "text/plain": [
       "<Figure size 640x480 with 1 Axes>"
      ]
     },
     "metadata": {},
     "output_type": "display_data"
    }
   ],
   "source": [
    "df[\"cut\"].value_counts().plot(kind='bar')\n",
    "plt.title('Count of cut')"
   ]
  },
  {
   "cell_type": "code",
   "execution_count": 9,
   "id": "cc0ba6e6",
   "metadata": {
    "scrolled": true
   },
   "outputs": [
    {
     "data": {
      "text/plain": [
       "Text(0.5, 1.0, 'Count of clartiy')"
      ]
     },
     "execution_count": 9,
     "metadata": {},
     "output_type": "execute_result"
    },
    {
     "data": {
      "image/png": "[encoded data removed]",
      "text/plain": [
       "<Figure size 640x480 with 1 Axes>"
      ]
     },
     "metadata": {},
     "output_type": "display_data"
    }
   ],
   "source": [
    "df[\"clarity\"].value_counts().plot(kind='bar')\n",
    "plt.title('Count of clartiy')"
   ]
  },
  {
   "cell_type": "markdown",
   "id": "30c95d2b",
   "metadata": {},
   "source": [
    "Теперь посмотрим, какие количественные признаки сильнее всего корреллируют с таргетом:"
   ]
  },
  {
   "cell_type": "code",
   "execution_count": 10,
   "id": "931a19fb",
   "metadata": {},
   "outputs": [
    {
     "data": {
      "text/plain": [
       "<Axes: >"
      ]
     },
     "execution_count": 10,
     "metadata": {},
     "output_type": "execute_result"
    },
    {
     "data": {
      "image/png": "[encoded data removed]",
      "text/plain": [
       "<Figure size 640x480 with 2 Axes>"
      ]
     },
     "metadata": {},
     "output_type": "display_data"
    }
   ],
   "source": [
    "corr_matrix = df.corr(numeric_only=True)\n",
    "sns.heatmap(corr_matrix, cmap='Wistia', annot=True)"
   ]
  },
  {
   "cell_type": "markdown",
   "id": "4eda0c83",
   "metadata": {},
   "source": [
    "Сильнее всего влияние на стоимость оказывают размеры и число карат "
   ]
  },
  {
   "cell_type": "markdown",
   "id": "ddd43c6d",
   "metadata": {},
   "source": [
    "Теперь попробуем модель линейной регрессии для прогнозирования цены:"
   ]
  },
  {
   "cell_type": "code",
   "execution_count": 11,
   "id": "b015473e",
   "metadata": {},
   "outputs": [],
   "source": [
    "y = df['price']\n",
    "X = df.drop(columns = \"price\")"
   ]
  },
  {
   "cell_type": "code",
   "execution_count": 12,
   "id": "bf598b9d",
   "metadata": {},
   "outputs": [
    {
     "data": {
      "text/plain": [
       "Index(['carat', 'depth', 'table', 'x', 'y', 'z'], dtype='object')"
      ]
     },
     "execution_count": 12,
     "metadata": {},
     "output_type": "execute_result"
    }
   ],
   "source": [
    "numeric_data = X.select_dtypes(np.number)\n",
    "numeric_features = numeric_data.columns\n",
    "numeric_features"
   ]
  },
  {
   "cell_type": "code",
   "execution_count": 13,
   "id": "c7488232",
   "metadata": {},
   "outputs": [
    {
     "data": {
      "text/plain": [
       "Index(['cut', 'color', 'clarity'], dtype='object')"
      ]
     },
     "execution_count": 13,
     "metadata": {},
     "output_type": "execute_result"
    }
   ],
   "source": [
    "categorical_data = X.select_dtypes(object)\n",
    "categorical_features = categorical_data.columns\n",
    "categorical_features"
   ]
  },
  {
   "cell_type": "code",
   "execution_count": 14,
   "id": "9e48aae0",
   "metadata": {},
   "outputs": [],
   "source": [
    "X_train, X_test, y_train, y_test = train_test_split(X, y, train_size = 0.8)"
   ]
  },
  {
   "cell_type": "markdown",
   "id": "380f4701",
   "metadata": {},
   "source": [
    "## Метрики качества\n",
    "В качестве метрики качества лучше всего рассматривать MAE, потому что MAE очень хорошо интерпретируем для цены, т.е. мы получаем ошибку в рублях. Это можно легко интепретировать для людей, которые не разбираются в ML. Если бы взяли MSE, то ошибка была бы в рублях в квадрате, а это никак нельзя адекватно интерпретировать."
   ]
  },
  {
   "cell_type": "markdown",
   "id": "0847fe47",
   "metadata": {},
   "source": [
    "## Оценка константным предиктором"
   ]
  },
  {
   "cell_type": "code",
   "execution_count": 15,
   "id": "7ac399c1",
   "metadata": {},
   "outputs": [
    {
     "data": {
      "text/plain": [
       "array([3957.81108639, 3957.81108639, 3957.81108639, ..., 3957.81108639,\n",
       "       3957.81108639, 3957.81108639])"
      ]
     },
     "execution_count": 15,
     "metadata": {},
     "output_type": "execute_result"
    }
   ],
   "source": [
    "y_pred = np.array([y_test.mean() for i in range(y_test.shape[0])])\n",
    "y_pred"
   ]
  },
  {
   "cell_type": "code",
   "execution_count": 16,
   "id": "769e5d00",
   "metadata": {},
   "outputs": [
    {
     "name": "stdout",
     "output_type": "stream",
     "text": [
      "3050.373603809228\n"
     ]
    }
   ],
   "source": [
    "print(mean_absolute_error(y_test, y_pred))"
   ]
  },
  {
   "cell_type": "markdown",
   "id": "f152cd1a",
   "metadata": {},
   "source": [
    "Средняя ошибка составила 3023 денежных единиц. Результат оставляет желать лучшего"
   ]
  },
  {
   "cell_type": "markdown",
   "id": "b5180980",
   "metadata": {},
   "source": [
    "## Линейная регрессия\n",
    "Теперь обучим модель линейной регрессии и посмотрим на результат"
   ]
  },
  {
   "cell_type": "code",
   "execution_count": 17,
   "id": "193b1073",
   "metadata": {},
   "outputs": [],
   "source": [
    "ct = ColumnTransformer([\n",
    "    ('ohe', OneHotEncoder(), categorical_features),\n",
    "    ('scaler', StandardScaler(), numeric_features)\n",
    "])\n",
    "\n",
    "X_train = ct.fit_transform(X_train)\n",
    "X_test = ct.transform(X_test)"
   ]
  },
  {
   "cell_type": "code",
   "execution_count": 18,
   "id": "183a0c01",
   "metadata": {},
   "outputs": [],
   "source": [
    "model = LinearRegression()\n",
    "model.fit(X_train, y_train)\n",
    "y_pred = model.predict(X_test)"
   ]
  },
  {
   "cell_type": "code",
   "execution_count": 19,
   "id": "2929667a",
   "metadata": {},
   "outputs": [
    {
     "name": "stdout",
     "output_type": "stream",
     "text": [
      "733.535595105673\n"
     ]
    }
   ],
   "source": [
    "print(mean_absolute_error(y_test, y_pred))"
   ]
  },
  {
   "cell_type": "markdown",
   "id": "22695685",
   "metadata": {},
   "source": [
    "Ошибка составила всего 737 денежные единицы. Это ощутимое улучшение качества. Теперь попробуем реализовать линейную регрессию самостоятельно:"
   ]
  },
  {
   "cell_type": "code",
   "execution_count": 20,
   "id": "610d07b9",
   "metadata": {},
   "outputs": [],
   "source": [
    "class LinearReg:\n",
    "    @staticmethod\n",
    "    def mse(y_true, y_pred):\n",
    "        loss = 0\n",
    "        for i in range(len(y_true)):\n",
    "            y = y_true[i]\n",
    "            pred = y_pred[i]\n",
    "            loss += (y-pred)**2\n",
    "        loss /= len(y_true)\n",
    "        return loss\n",
    "    \n",
    "    def __init__(self, lr = 0.01, iters = 2000):\n",
    "        self.lr = lr\n",
    "        self.iters = iters\n",
    "        self.w = None\n",
    "        self.b = None\n",
    "        \n",
    "    def fit(self, X_train, y_train):\n",
    "        samples, features = X_train.shape\n",
    "        self.w = np.zeros(features)\n",
    "        self.b = 0\n",
    "        \n",
    "        for _ in range(self.iters):\n",
    "            preds = np.dot(X_train, self.w) + self.b\n",
    "            \n",
    "            dw = (1 / samples) * np.dot(X_train.T, (preds - y_train))\n",
    "            db = (1 / samples) * np.sum(preds-y_train)\n",
    "            \n",
    "            self.w = self.w - self.lr * dw\n",
    "            self.b = self.b - self.lr * db\n",
    "    def predict(self, X_test):\n",
    "        preds = np.dot(X_test, self.w) + self.b\n",
    "        return preds"
   ]
  },
  {
   "cell_type": "code",
   "execution_count": 21,
   "id": "5e5f00a3",
   "metadata": {},
   "outputs": [],
   "source": [
    "model2 = LinearReg()\n",
    "model2.fit(X_train, y_train)\n",
    "y_preds = model.predict(X_test)"
   ]
  },
  {
   "cell_type": "code",
   "execution_count": 22,
   "id": "8e2cc1f0",
   "metadata": {},
   "outputs": [
    {
     "name": "stdout",
     "output_type": "stream",
     "text": [
      "733.535595105673\n"
     ]
    }
   ],
   "source": [
    "print(mean_absolute_error(y_test, y_preds))"
   ]
  },
  {
   "cell_type": "markdown",
   "id": "c0c0c3ef",
   "metadata": {},
   "source": [
    "Результат получился похожим на то, что получилось с использованием sci-kit learn"
   ]
  },
  {
   "cell_type": "markdown",
   "id": "3aa22d1e",
   "metadata": {},
   "source": [
    "## Вывод\n",
    "\n",
    "В ходе лабораторной работы я научился реализовывать линейную регрессию, сравнил полученную мною модель с реализацией из библиотеки sci-kit learn, результат получился довольно неплохим, точность по сравнению с константным предиктором возросла существенно"
   ]
  },
  {
   "cell_type": "markdown",
   "id": "3a413ba7",
   "metadata": {},
   "source": [
    "# Лабораторная 4"
   ]
  },
  {
   "cell_type": "markdown",
   "id": "51c5a65a",
   "metadata": {},
   "source": [
    "## Деревья решений и ансамбли\n",
    "\n",
    "Теперь для решения задачи классификации попробуем применить методы, основанные на деревьях решений. Сперва попробуем составить дерево решения, затем используем ансамбли: случайный лес и градиентный бустинг на деревьях."
   ]
  },
  {
   "cell_type": "markdown",
   "id": "18ec6543",
   "metadata": {},
   "source": [
    "Ниже приведена реализация решающего дерева. На нашей задаче, т.к. данных слишком много, а признаковое пространство имеет большую размерность, то обучение дерева будет очень долгим. Поэтому продемонстрируем, как работает решающее дерево на игрушечном примере"
   ]
  },
  {
   "cell_type": "code",
   "execution_count": 23,
   "id": "2a49fe83",
   "metadata": {},
   "outputs": [],
   "source": [
    "class Node:\n",
    "    def __init__(self, feature_index=None, threshold=None, left=None, right=None, var_red=None, value=None):\n",
    "        self.feature_index = feature_index\n",
    "        self.threshold = threshold\n",
    "        self.left = left\n",
    "        self.right = right\n",
    "        self.var_red = var_red\n",
    "        self.value = value"
   ]
  },
  {
   "cell_type": "code",
   "execution_count": 24,
   "id": "aba2acc6",
   "metadata": {},
   "outputs": [],
   "source": [
    "class DecisionTree:\n",
    "    def __init__(self, min_samples_split=2, max_depth=2):\n",
    "        self.root = None\n",
    "        self.min_samples_split = min_samples_split\n",
    "        self.max_depth = max_depth\n",
    "        \n",
    "    def build_tree(self, dataset, curr_depth=0):\n",
    "        X, Y = dataset[:,:-1], dataset[:,-1]\n",
    "        num_samples, num_features = np.shape(X)\n",
    "        best_split = {}\n",
    "        if num_samples>=self.min_samples_split and curr_depth<=self.max_depth:\n",
    "            best_split = self.get_best_split(dataset, num_samples, num_features)\n",
    "            if best_split[\"var_red\"]>0:\n",
    "                left_subtree = self.build_tree(best_split[\"dataset_left\"], curr_depth+1)\n",
    "                right_subtree = self.build_tree(best_split[\"dataset_right\"], curr_depth+1)\n",
    "                return Node(best_split[\"feature_index\"], best_split[\"threshold\"], \n",
    "                            left_subtree, right_subtree, best_split[\"var_red\"])\n",
    "        \n",
    "        leaf_value = self.calculate_leaf_value(Y)\n",
    "        return Node(value=leaf_value)\n",
    "    \n",
    "    def get_best_split(self, dataset, num_samples, num_features):\n",
    "        best_split = {}\n",
    "        max_var_red = -float(\"inf\")\n",
    "        for feature_index in range(num_features):\n",
    "            feature_values = dataset[:, feature_index]\n",
    "            possible_thresholds = np.unique(feature_values)\n",
    "            for threshold in possible_thresholds:\n",
    "                dataset_left, dataset_right = self.split(dataset, feature_index, threshold)\n",
    "                if len(dataset_left)>0 and len(dataset_right)>0:\n",
    "                    y, left_y, right_y = dataset[:, -1], dataset_left[:, -1], dataset_right[:, -1]\n",
    "                    curr_var_red = self.variance_reduction(y, left_y, right_y)\n",
    "                    if curr_var_red>max_var_red:\n",
    "                        best_split[\"feature_index\"] = feature_index\n",
    "                        best_split[\"threshold\"] = threshold\n",
    "                        best_split[\"dataset_left\"] = dataset_left\n",
    "                        best_split[\"dataset_right\"] = dataset_right\n",
    "                        best_split[\"var_red\"] = curr_var_red\n",
    "                        max_var_red = curr_var_red\n",
    "                        \n",
    "        return best_split\n",
    "    \n",
    "    def split(self, dataset, feature_index, threshold):\n",
    "        dataset_left = np.array([row for row in dataset if row[feature_index]<=threshold])\n",
    "        dataset_right = np.array([row for row in dataset if row[feature_index]>threshold])\n",
    "        return dataset_left, dataset_right\n",
    "    \n",
    "    def variance_reduction(self, parent, l_child, r_child):\n",
    "        weight_l = len(l_child) / len(parent)\n",
    "        weight_r = len(r_child) / len(parent)\n",
    "        reduction = np.var(parent) - (weight_l * np.var(l_child) + weight_r * np.var(r_child))\n",
    "        return reduction\n",
    "    \n",
    "    def calculate_leaf_value(self, Y):\n",
    "\n",
    "        val = np.mean(Y)\n",
    "        return val\n",
    "                \n",
    "    def print_tree(self, tree=None, indent=\" \"):\n",
    "        if not tree:\n",
    "            tree = self.root\n",
    "\n",
    "        if tree.value is not None:\n",
    "            print(tree.value)\n",
    "\n",
    "        else:\n",
    "            print(\"X_\"+str(tree.feature_index), \"<=\", tree.threshold, \"?\", tree.var_red)\n",
    "            print(\"%sleft:\" % (indent), end=\"\")\n",
    "            self.print_tree(tree.left, indent + indent)\n",
    "            print(\"%sright:\" % (indent), end=\"\")\n",
    "            self.print_tree(tree.right, indent + indent)\n",
    "    \n",
    "    def fit(self, X, Y):\n",
    "        dataset = np.concatenate((X, Y), axis=1)\n",
    "        self.root = self.build_tree(dataset)\n",
    "        \n",
    "    def make_prediction(self, x, tree):\n",
    "        if tree.value!=None: return tree.value\n",
    "        feature_val = x[tree.feature_index]\n",
    "        if feature_val<=tree.threshold:\n",
    "            return self.make_prediction(x, tree.left)\n",
    "        else:\n",
    "            return self.make_prediction(x, tree.right)\n",
    "    \n",
    "    def predict(self, X):\n",
    "        preditions = [self.make_prediction(x, self.root) for x in X]\n",
    "        return preditions"
   ]
  },
  {
   "cell_type": "code",
   "execution_count": 25,
   "id": "8931897d",
   "metadata": {},
   "outputs": [],
   "source": [
    "X_tree = X_train\n",
    "Y_tree = y_train.values.reshape(-1,1)\n",
    "DT = DecisionTree(min_samples_split=3, max_depth=3)\n",
    "DT.fit(X_tree, Y_tree)\n",
    "y_preds = DT.predict(X_test)"
   ]
  },
  {
   "cell_type": "code",
   "execution_count": 26,
   "id": "479ce965",
   "metadata": {},
   "outputs": [
    {
     "name": "stdout",
     "output_type": "stream",
     "text": [
      "701.3466988576564\n"
     ]
    }
   ],
   "source": [
    "print(mean_absolute_error(y_test, y_preds))"
   ]
  },
  {
   "cell_type": "markdown",
   "id": "f8d95dfc",
   "metadata": {},
   "source": [
    "Выведем полученное дерево."
   ]
  },
  {
   "cell_type": "code",
   "execution_count": 27,
   "id": "942ae4df",
   "metadata": {},
   "outputs": [
    {
     "name": "stdout",
     "output_type": "stream",
     "text": [
      "X_20 <= 0.40585955102424254 ? 9643006.53336967\n",
      " left:X_24 <= -0.17786641963010102 ? 820528.7403646073\n",
      "  left:X_20 <= -0.7340099334128147 ? 172096.30372966576\n",
      "    left:X_23 <= -0.9907310722095612 ? 14564.718014204074\n",
      "        left:699.7532385466035\n",
      "        right:959.7848596410493\n",
      "    right:X_19 <= 0.0 ? 25244.49668123643\n",
      "        left:1624.8110236220473\n",
      "        right:2132.597037037037\n",
      "  right:X_20 <= 0.19477260946182454 ? 295745.3896409085\n",
      "    left:X_24 <= -0.012435262174797559 ? 38742.5357434164\n",
      "        left:2455.6776384535005\n",
      "        right:2872.8747702809137\n",
      "    right:X_12 <= 0.0 ? 85126.40347336035\n",
      "        left:3998.568590350047\n",
      "        right:2142.6545454545453\n",
      " right:X_24 <= 1.2674794823478175 ? 8233075.0936975125\n",
      "  left:X_15 <= 0.0 ? 762071.3841859028\n",
      "    left:X_14 <= 0.0 ? 906423.7240300435\n",
      "        left:7372.867303393619\n",
      "        right:5389.697221219776\n",
      "    right:X_20 <= 0.8280334341490785 ? 345037.2996769146\n",
      "        left:4312.332825976661\n",
      "        right:5646.6941678520625\n",
      "  right:X_24 <= 1.8073074698335452 ? 3634727.782205336\n",
      "    left:X_15 <= 0.0 ? 1333240.2948446516\n",
      "        left:11462.725634725635\n",
      "        right:8678.99421965318\n",
      "    right:X_12 <= 0.0 ? 1634808.1199445678\n",
      "        left:15090.807398708163\n",
      "        right:8914.45\n"
     ]
    }
   ],
   "source": [
    "DT.print_tree()"
   ]
  },
  {
   "cell_type": "markdown",
   "id": "054714f8",
   "metadata": {},
   "source": [
    "Качество модели улучшилось, т.к. дерево может строить нелинейные зависимости, а кусочно линейные"
   ]
  },
  {
   "cell_type": "markdown",
   "id": "6956560c",
   "metadata": {},
   "source": [
    "Теперь посмотрим на качество дерева, реализованного в sci-kit learn"
   ]
  },
  {
   "cell_type": "code",
   "execution_count": 28,
   "id": "32e6d1c4",
   "metadata": {},
   "outputs": [],
   "source": [
    "from sklearn.tree import DecisionTreeRegressor\n",
    "\n",
    "DTR = DecisionTreeRegressor()\n",
    "DTR.fit(X_train, y_train)\n",
    "y_preds = DTR.predict(X_test)"
   ]
  },
  {
   "cell_type": "code",
   "execution_count": 29,
   "id": "78abfb2d",
   "metadata": {},
   "outputs": [
    {
     "name": "stdout",
     "output_type": "stream",
     "text": [
      "360.6220800889878\n"
     ]
    }
   ],
   "source": [
    "print(mean_absolute_error(y_test, y_preds))"
   ]
  },
  {
   "cell_type": "markdown",
   "id": "2b1cec09",
   "metadata": {},
   "source": [
    "Качество заметно стало лучше. Дефолтные параметры модели из sci-kit learn лучше подходят под задачу. Если бы наше дерево было глубже, то качество было бы лучше, но моя имплементация модели работает медленно, даже не смотря на небольшую глубину дерева"
   ]
  },
  {
   "cell_type": "markdown",
   "id": "e82c84c1",
   "metadata": {},
   "source": [
    "## Случайный лес"
   ]
  },
  {
   "cell_type": "code",
   "execution_count": 56,
   "id": "a8d1a1a4",
   "metadata": {},
   "outputs": [],
   "source": [
    "class RandomForest:\n",
    "    def __init__(self, n_estimators = 20, max_depth = 20, min_samples_split = 2, n_features = None):\n",
    "        self.n_estimators = n_estimators\n",
    "        self.max_depth = max_depth\n",
    "        self.min_samples_split = min_samples_split\n",
    "        self.n_features = n_features\n",
    "        self.trees = []\n",
    "        \n",
    "    def fit(self, X, y):\n",
    "        for _ in range(self.n_estimators):\n",
    "            tree = DecisionTreeRegressor(max_depth = self.max_depth, \n",
    "                                          min_samples_split = self.min_samples_split)\n",
    "            tree.fit(X, y)\n",
    "            self.trees.append(tree)\n",
    "            \n",
    "    @staticmethod\n",
    "    def _bootstraping(X, y):\n",
    "        n_samples = X.shape[0]\n",
    "        idxs = np.random.choice(n_samples, n_samples, replace=True)\n",
    "        return X[idxs], y[idxs]\n",
    "    \n",
    "    @staticmethod\n",
    "    def _mean_answer(y):\n",
    "        mean = np.mean(y)\n",
    "        return mean\n",
    "    \n",
    "    def predict(self, X):\n",
    "        predictions = np.array([tree.predict(X) for tree in self.trees])\n",
    "        tree_preds = np.swapaxes(predictions, 0, 1)\n",
    "        predictions = np.array([self._mean_answer(pred) for pred in tree_preds])\n",
    "        return predictions"
   ]
  },
  {
   "cell_type": "code",
   "execution_count": 58,
   "id": "9bc991ca",
   "metadata": {},
   "outputs": [],
   "source": [
    "RF = RandomForest()\n",
    "RF.fit(X_train, y_train)\n",
    "y_preds = RF.predict(X_test)"
   ]
  },
  {
   "cell_type": "code",
   "execution_count": 59,
   "id": "92257a39",
   "metadata": {},
   "outputs": [
    {
     "name": "stdout",
     "output_type": "stream",
     "text": [
      "338.69141378706223\n"
     ]
    }
   ],
   "source": [
    "print(mean_absolute_error(y_test, y_preds))"
   ]
  },
  {
   "cell_type": "markdown",
   "id": "b3a48e3b",
   "metadata": {},
   "source": [
    "Random forest дал неплохое улучшение результата. Теперь воспользуемся Random Forest из библиотеки sci-kit learn:"
   ]
  },
  {
   "cell_type": "code",
   "execution_count": 61,
   "id": "acbd4e5f",
   "metadata": {},
   "outputs": [],
   "source": [
    "from sklearn.ensemble import RandomForestRegressor\n",
    "\n",
    "RFR = RandomForestRegressor()\n",
    "RFR.fit(X_train, y_train)\n",
    "y_preds = RFR.predict(X_test)"
   ]
  },
  {
   "cell_type": "code",
   "execution_count": 62,
   "id": "9497ea0a",
   "metadata": {},
   "outputs": [
    {
     "name": "stdout",
     "output_type": "stream",
     "text": [
      "266.01893007037506\n"
     ]
    }
   ],
   "source": [
    "print(mean_absolute_error(y_test, y_preds))"
   ]
  },
  {
   "cell_type": "markdown",
   "id": "f23285db",
   "metadata": {},
   "source": [
    "Качество стало ещё лучше. Видимо, дефолтные параметры Random Forest из sklearn лучше подходят для нашей задачи"
   ]
  },
  {
   "cell_type": "markdown",
   "id": "4bb39fd1",
   "metadata": {},
   "source": [
    "## Градиентный бустинг"
   ]
  },
  {
   "cell_type": "code",
   "execution_count": 63,
   "id": "0c1da0d6",
   "metadata": {},
   "outputs": [],
   "source": [
    "from scipy.optimize import minimize\n",
    "\n",
    "class GradientBoostingMachine():\n",
    "    def __init__(self, n_trees, learning_rate=0.1, max_depth=1):\n",
    "        self.n_trees=n_trees; \n",
    "        self.learning_rate=learning_rate\n",
    "        self.max_depth=max_depth;\n",
    "    \n",
    "    def fit(self, X, y, objective):\n",
    "        self.trees = []\n",
    "        self.base_prediction = self._get_optimal_base_value(y, objective.loss)\n",
    "        current_predictions = self.base_prediction * np.ones(shape=y.shape)\n",
    "        for _ in range(self.n_trees):\n",
    "            pseudo_residuals = objective.negative_gradient(y, current_predictions)\n",
    "            tree = DecisionTreeRegressor(max_depth=self.max_depth)\n",
    "            tree.fit(X, pseudo_residuals)\n",
    "            self._update_terminal_nodes(tree, X, y, current_predictions, objective.loss)\n",
    "            current_predictions += self.learning_rate * tree.predict(X)\n",
    "            self.trees.append(tree)\n",
    "     \n",
    "    def _get_optimal_base_value(self, y, loss):\n",
    "        fun = lambda c: loss(y, c)\n",
    "        c0 = y.mean()\n",
    "        return minimize(fun=fun, x0=c0).x[0]\n",
    "        \n",
    "    def _update_terminal_nodes(self, tree, X, y, current_predictions, loss):\n",
    "        leaf_nodes = np.nonzero(tree.tree_.children_left == -1)[0]\n",
    "        leaf_node_for_each_sample = tree.apply(X)\n",
    "        for leaf in leaf_nodes:\n",
    "            samples_in_this_leaf = np.where(leaf_node_for_each_sample == leaf)[0]\n",
    "            y_in_leaf = y.take(samples_in_this_leaf, axis=0)\n",
    "            preds_in_leaf = current_predictions.take(samples_in_this_leaf, axis=0)\n",
    "            val = self._get_optimal_leaf_value(y_in_leaf, \n",
    "                                               preds_in_leaf,\n",
    "                                               loss)\n",
    "            tree.tree_.value[leaf, 0, 0] = val\n",
    "            \n",
    "    def _get_optimal_leaf_value(self, y, current_predictions, loss):\n",
    "        '''Find the optimal prediction value for a given leaf.'''\n",
    "        fun = lambda c: loss(y, current_predictions + c)\n",
    "        c0 = y.mean()\n",
    "        return minimize(fun=fun, x0=c0).x[0]\n",
    "          \n",
    "    def predict(self, X):\n",
    "        '''Generate predictions for the given input data.'''\n",
    "        return (self.base_prediction \n",
    "                + self.learning_rate \n",
    "                * np.sum([tree.predict(X) for tree in self.trees], axis=0))"
   ]
  },
  {
   "cell_type": "code",
   "execution_count": 71,
   "id": "ba784f80",
   "metadata": {},
   "outputs": [],
   "source": [
    "class SquaredErrorLoss():\n",
    "    '''User-Defined Squared Error Loss'''\n",
    "    \n",
    "    def loss(self, y, preds):\n",
    "        return np.mean((y - preds)**2)\n",
    "    \n",
    "    def negative_gradient(self, y, preds):\n",
    "        return y - preds\n",
    "    \n",
    "\n",
    "gbm = GradientBoostingMachine(n_trees=1500,\n",
    "                              learning_rate=0.1,\n",
    "                              max_depth=3)\n",
    "gbm.fit(X_train, y_train, SquaredErrorLoss())\n",
    "pred = gbm.predict(X_test)"
   ]
  },
  {
   "cell_type": "code",
   "execution_count": 72,
   "id": "59c6f16d",
   "metadata": {},
   "outputs": [
    {
     "name": "stdout",
     "output_type": "stream",
     "text": [
      "301.4656237491007\n"
     ]
    }
   ],
   "source": [
    "print(mean_absolute_error(y_test, pred))"
   ]
  },
  {
   "cell_type": "markdown",
   "id": "167d8947",
   "metadata": {},
   "source": [
    "Получили отличное качество. Градиентный бустинг хорошо показал себя в этой задаче. Теперь попробуем сравнить нашу реализацию с XGBoost"
   ]
  },
  {
   "cell_type": "code",
   "execution_count": 74,
   "id": "6518ad30",
   "metadata": {},
   "outputs": [],
   "source": [
    "from xgboost import XGBRegressor\n",
    "\n",
    "xgb = XGBRegressor(n_estimators = 1000)\n",
    "xgb.fit(X_train, y_train)\n",
    "preds = xgb.predict(X_test)"
   ]
  },
  {
   "cell_type": "code",
   "execution_count": 75,
   "id": "094d8a64",
   "metadata": {},
   "outputs": [
    {
     "name": "stdout",
     "output_type": "stream",
     "text": [
      "266.01893007037506\n"
     ]
    }
   ],
   "source": [
    "print(mean_absolute_error(y_test, y_preds))"
   ]
  },
  {
   "cell_type": "markdown",
   "id": "ac8827cb",
   "metadata": {},
   "source": [
    "Без настройки параметров получилось отличное качество модели"
   ]
  },
  {
   "cell_type": "markdown",
   "id": "a0f58c58",
   "metadata": {},
   "source": [
    "## Вывод\n",
    "В ходе работы я изучил различные методы решения задач регрессии: линейная регрессия, деревья решений, Random forest и градиентный бустинг. Лучший результат показали градиентный бустинг и случайный лес."
   ]
  },
  {
   "cell_type": "code",
   "execution_count": null,
   "id": "71fa1986",
   "metadata": {},
   "outputs": [],
   "source": []
  }
 ],
 "metadata": {
  "kernelspec": {
   "display_name": "Python 3 (ipykernel)",
   "language": "python",
   "name": "python3"
  },
  "language_info": {
   "codemirror_mode": {
    "name": "ipython",
    "version": 3
   },
   "file_extension": ".py",
   "mimetype": "text/x-python",
   "name": "python",
   "nbconvert_exporter": "python",
   "pygments_lexer": "ipython3",
   "version": "3.11.5"
  }
 },
 "nbformat": 4,
 "nbformat_minor": 5
}
